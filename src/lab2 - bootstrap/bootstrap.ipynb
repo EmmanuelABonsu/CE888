{
  "nbformat": 4,
  "nbformat_minor": 0,
  "metadata": {
    "colab": {
      "name": "bootstrap.ipynb",
      "provenance": [],
      "toc_visible": true,
      "include_colab_link": true
    },
    "kernelspec": {
      "display_name": "Python 3",
      "language": "python",
      "name": "python3"
    },
    "language_info": {
      "codemirror_mode": {
        "name": "ipython",
        "version": 3
      },
      "file_extension": ".py",
      "mimetype": "text/x-python",
      "name": "python",
      "nbconvert_exporter": "python",
      "pygments_lexer": "ipython3",
      "version": "3.7.6"
    },
    "pycharm": {
      "stem_cell": {
        "cell_type": "raw",
        "metadata": {
          "collapsed": false
        },
        "source": []
      }
    }
  },
  "cells": [
    {
      "cell_type": "markdown",
      "metadata": {
        "id": "view-in-github",
        "colab_type": "text"
      },
      "source": [
        "<a href=\"https://colab.research.google.com/github/EmmanuelABonsu/CE888/blob/main/src/lab2%20-%20bootstrap/bootstrap.ipynb\" target=\"_parent\"><img src=\"https://colab.research.google.com/assets/colab-badge.svg\" alt=\"Open In Colab\"/></a>"
      ]
    },
    {
      "cell_type": "markdown",
      "metadata": {
        "id": "nCi_99yMYIb1"
      },
      "source": [
        "In this notebook you'll create your own bootstrap function following the bootstrap algorithm (check the lecture notes!)"
      ]
    },
    {
      "cell_type": "code",
      "metadata": {
        "id": "LY5zujI2YC37",
        "pycharm": {
          "name": "#%%# Imports\n"
        }
      },
      "source": [
        "import matplotlib\n",
        "import pandas as pd\n",
        "import seaborn as sns\n",
        "import numpy as np\n",
        "\n"
      ],
      "execution_count": 1,
      "outputs": []
    },
    {
      "cell_type": "code",
      "metadata": {
        "id": "Eqkwj4SMY38t"
      },
      "source": [
        "# Load the data\n",
        "df = pd.read_csv('https://raw.githubusercontent.com/albanda/CE888/master/lab2%20-%20bootstrap/customers.csv')\n",
        "data = df.values.T[1]"
      ],
      "execution_count": 2,
      "outputs": []
    },
    {
      "cell_type": "code",
      "metadata": {
        "id": "--CWLRHHw6O0"
      },
      "source": [
        ""
      ],
      "execution_count": null,
      "outputs": []
    },
    {
      "cell_type": "code",
      "metadata": {
        "id": "Gxvc_bScYC4H",
        "pycharm": {
          "name": "#%%\n"
        }
      },
      "source": [
        "# Checking the notes from the lecture, create here your own bootstrap function:\n",
        "# 1. Sample from the input array x to create an array of samples of shape (n_bootstraps, sample_size)\n",
        "# Hint: Check the function random.choice() on Numpy\n",
        "# 2. Calculate and save the mean of the array (this is \"data_mean\" that is returned by the function)\n",
        "# 3. Calculate the mean from each bootstrap (i.e., row) and store it.\n",
        "# (This should be an array of n_bootstraps values)\n",
        "# 4. Calculate the lower and upper bounds for a 95% CI (hint: check the percentile function on Numpy)\n",
        "# 5. Return data_mean, and the lower and upper bounds of your interval\n",
        "def bootstrap_mean(x, sample_size, n_bootstraps):\n",
        "\t# <---INSERT YOUR CODE HERE--->\n",
        "  bootstraps = np.random.choice(x, (n_bootstraps, sample_size), replace=True)\n",
        "  bootstrap_means = np.mean(bootstraps, axis=1)\n",
        "  data_mean = np.mean(bootstraps)\n",
        "  bootstrap_means_sorted = sorted(bootstrap_means)\n",
        "  lower = np.percentile(bootstrap_means_sorted, 2.5)\n",
        "  upper = np.percentile(bootstrap_means_sorted, 97.5)\n",
        "  return data_mean, lower, upper\n"
      ],
      "execution_count": 3,
      "outputs": []
    },
    {
      "cell_type": "code",
      "metadata": {
        "id": "nxK_yJnkcvbJ"
      },
      "source": [
        "# ar = [1,2,3,4,5,6,7,8,10]\n",
        "# ci = 95\n",
        "# print(np.percentile(ar,((100 - ci) * 0.5) + ci))\n",
        "# print(np.percentile(ar, 97.5))"
      ],
      "execution_count": null,
      "outputs": []
    },
    {
      "cell_type": "code",
      "metadata": {
        "id": "AN7sEOcMYC4P",
        "pycharm": {
          "name": "#%%\n"
        },
        "colab": {
          "base_uri": "https://localhost:8080/",
          "height": 454
        },
        "outputId": "17e32740-3ee0-412b-d364-244ab601819b"
      },
      "source": [
        "# Call your bootstrap function and plot the results\n",
        "\n",
        "boots = []\n",
        "for i in range(100, 50000, 1000):\n",
        "    boot = bootstrap_mean(data, data.shape[0], i)\n",
        "    boots.append([i, boot[0], \"mean\"])\n",
        "    boots.append([i, boot[1], \"lower\"])\n",
        "    boots.append([i, boot[2], \"upper\"])\n",
        "\n",
        "df_boot = pd.DataFrame(boots, columns=['Bootstrap Iterations', 'Mean', \"Value\"])\n",
        "sns_plot = sns.lmplot(df_boot.columns[0], df_boot.columns[1], data=df_boot, fit_reg=False, hue=\"Value\")\n",
        "\n",
        "sns_plot.axes[0, 0].set_ylim(0,)\n",
        "sns_plot.axes[0, 0].set_xlim(0, 100000)\n"
      ],
      "execution_count": 4,
      "outputs": [
        {
          "output_type": "stream",
          "text": [
            "/usr/local/lib/python3.6/dist-packages/seaborn/_decorators.py:43: FutureWarning: Pass the following variables as keyword args: x, y. From version 0.12, the only valid positional argument will be `data`, and passing other arguments without an explicit keyword will result in an error or misinterpretation.\n",
            "  FutureWarning\n"
          ],
          "name": "stderr"
        },
        {
          "output_type": "execute_result",
          "data": {
            "text/plain": [
              "(0.0, 100000.0)"
            ]
          },
          "metadata": {
            "tags": []
          },
          "execution_count": 4
        },
        {
          "output_type": "display_data",
          "data": {
            "image/png": "[encoded data removed]",
            "text/plain": [
              "<Figure size 425.125x360 with 1 Axes>"
            ]
          },
          "metadata": {
            "tags": [],
            "needs_background": "light"
          }
        }
      ]
    },
    {
      "cell_type": "markdown",
      "metadata": {
        "id": "MjtP4e2_YC4V"
      },
      "source": [
        "\n",
        "Now, modify the bootstrap function you created above so that you can pass your desired confidence interval as a parameter.\n",
        "\n"
      ]
    },
    {
      "cell_type": "code",
      "metadata": {
        "id": "3K9j0FuGYhHs"
      },
      "source": [
        "def bootstrap_mean_ci(sample, sample_size, n_bootstraps, ci):\n",
        "\t# <---INSERT YOUR CODE HERE--->\n",
        "  bootstraps = np.random.choice(sample, (n_bootstraps, sample_size), replace=True)\n",
        "  bootstrap_means = np.mean(bootstraps, axis=1)\n",
        "  data_mean = np.mean(bootstraps)\n",
        "  bootstrap_means_sorted = sorted(bootstrap_means)\n",
        "  lower = np.percentile(bootstrap_means_sorted, (100 - ci) * 0.5)\n",
        "  upper = np.percentile(bootstrap_means_sorted, ((100 - ci) * 0.5) + ci)\n",
        "  return data_mean, lower, upper"
      ],
      "execution_count": 5,
      "outputs": []
    },
    {
      "cell_type": "code",
      "metadata": {
        "id": "uDnjq08GYl-C",
        "colab": {
          "base_uri": "https://localhost:8080/",
          "height": 454
        },
        "outputId": "95d9d5a7-f72f-4d4e-cd6a-2d1a2ad0066a"
      },
      "source": [
        "boots = []\n",
        "for i in range(100, 50000, 1000):\n",
        "    boot = bootstrap_mean_ci(data, data.shape[0], i, 80)\n",
        "    boots.append([i, boot[0], \"mean\"])\n",
        "    boots.append([i, boot[1], \"lower\"])\n",
        "    boots.append([i, boot[2], \"upper\"])\n",
        "\n",
        "df_boot = pd.DataFrame(boots, columns=['Boostrap Iterations', 'Mean', \"Value\"])\n",
        "sns_plot = sns.lmplot(df_boot.columns[0], df_boot.columns[1], data=df_boot, fit_reg=False, hue=\"Value\")\n",
        "\n",
        "sns_plot.axes[0, 0].set_ylim(0,)\n",
        "sns_plot.axes[0, 0].set_xlim(0, 100000)\n",
        "\n",
        "#sns_plot.savefig(\"bootstrap_confidence_80.pdf\", bbox_inches='tight')\n"
      ],
      "execution_count": 6,
      "outputs": [
        {
          "output_type": "stream",
          "text": [
            "/usr/local/lib/python3.6/dist-packages/seaborn/_decorators.py:43: FutureWarning: Pass the following variables as keyword args: x, y. From version 0.12, the only valid positional argument will be `data`, and passing other arguments without an explicit keyword will result in an error or misinterpretation.\n",
            "  FutureWarning\n"
          ],
          "name": "stderr"
        },
        {
          "output_type": "execute_result",
          "data": {
            "text/plain": [
              "(0.0, 100000.0)"
            ]
          },
          "metadata": {
            "tags": []
          },
          "execution_count": 6
        },
        {
          "output_type": "display_data",
          "data": {
            "image/png": "[encoded data removed]",
            "text/plain": [
              "<Figure size 425.125x360 with 1 Axes>"
            ]
          },
          "metadata": {
            "tags": [],
            "needs_background": "light"
          }
        }
      ]
    },
    {
      "cell_type": "markdown",
      "metadata": {
        "id": "qjNgXW6wdd7r"
      },
      "source": [
        "# Vehicles dataset\n",
        "\n",
        "Now let's work on a different dataset, which is stored in the vehicles.csv file.\n"
      ]
    },
    {
      "cell_type": "code",
      "metadata": {
        "id": "avWv4ipFdpka",
        "colab": {
          "base_uri": "https://localhost:8080/",
          "height": 461
        },
        "outputId": "f91de629-6325-47d0-d0bf-4d67da587d27"
      },
      "source": [
        "import matplotlib.pyplot as plt\n",
        "# Load and visualise the vehicles dataset\n",
        "# To load the dataset: https://neptune.ai/blog/google-colab-dealing-with-files (check section \"Load individual files directly from GitHub\")\n",
        "df = pd.read_csv('https://raw.githubusercontent.com/albanda/CE888/master/lab2%20-%20bootstrap/vehicles.csv')\n",
        "df.head()\n",
        "df.dropna()\n",
        "# Note that the current and new fleets are in different columns and have different lengths, so bear this in mind when you're plotting.\n",
        "# You can create separate scatterplots for the two fleets, as you would with the histograms, \n",
        "# or plot them both in one plot (but not one against the other).\n",
        "# <---INSERT YOUR CODE HERE--->\n",
        "# Scatter Plots\n",
        "f, (ax1, ax2) = plt.subplots(1, 2, figsize=(15,7))\n",
        "ax1.scatter(df.index, df['Current fleet']) \n",
        "ax1.set_title('Scatter plot for Current Fleet')\n",
        "ax2.scatter(df.index, df['New Fleet'])\n",
        "ax2.set_title('Scatter plot for New Fleet')\n",
        "# Note: you can add more cells as needed to organise your code and your plots\n"
      ],
      "execution_count": 7,
      "outputs": [
        {
          "output_type": "execute_result",
          "data": {
            "text/plain": [
              "Text(0.5, 1.0, 'Scatter plot for New Fleet')"
            ]
          },
          "metadata": {
            "tags": []
          },
          "execution_count": 7
        },
        {
          "output_type": "display_data",
          "data": {
            "image/png": "[encoded data removed]",
            "text/plain": [
              "<Figure size 1080x504 with 2 Axes>"
            ]
          },
          "metadata": {
            "tags": [],
            "needs_background": "light"
          }
        }
      ]
    },
    {
      "cell_type": "code",
      "metadata": {
        "colab": {
          "base_uri": "https://localhost:8080/",
          "height": 826
        },
        "id": "RCPDKOW6UmeP",
        "outputId": "3b312352-9572-486f-e9cb-55fc4f9e3d43"
      },
      "source": [
        "# Ploting the histogram for both data set \n",
        "# fig, axes = plt.subplots(1, 2)\n",
        "sns.displot(df['Current fleet'], bins=20, kde=False, rug=True, ax= axes[0])\n",
        "sns.displot(df['New Fleet'], bins=20, kde=False, rug=True, ax=axes[1])"
      ],
      "execution_count": 10,
      "outputs": [
        {
          "output_type": "stream",
          "text": [
            "/usr/local/lib/python3.6/dist-packages/seaborn/distributions.py:2164: UserWarning: `displot` is a figure-level function and does not accept the ax= paramter. You may wish to try histplot.\n",
            "  warnings.warn(msg, UserWarning)\n",
            "/usr/local/lib/python3.6/dist-packages/seaborn/distributions.py:2164: UserWarning: `displot` is a figure-level function and does not accept the ax= paramter. You may wish to try histplot.\n",
            "  warnings.warn(msg, UserWarning)\n"
          ],
          "name": "stderr"
        },
        {
          "output_type": "execute_result",
          "data": {
            "text/plain": [
              "<seaborn.axisgrid.FacetGrid at 0x7f991373f128>"
            ]
          },
          "metadata": {
            "tags": []
          },
          "execution_count": 10
        },
        {
          "output_type": "display_data",
          "data": {
            "image/png": "[encoded data removed]",
            "text/plain": [
              "<Figure size 360x360 with 1 Axes>"
            ]
          },
          "metadata": {
            "tags": [],
            "needs_background": "light"
          }
        },
        {
          "output_type": "display_data",
          "data": {
            "image/png": "[encoded data removed]",
            "text/plain": [
              "<Figure size 360x360 with 1 Axes>"
            ]
          },
          "metadata": {
            "tags": [],
            "needs_background": "light"
          }
        }
      ]
    },
    {
      "cell_type": "markdown",
      "metadata": {
        "id": "B5d0tXDpIEj8"
      },
      "source": [
        "## Compare the two fleets\r\n",
        "\r\n",
        "The business analysts come up a comparison algorithm that requires the upper and lower bounds for the mean in order to say which fleet is better.\r\n",
        "1. Calculate the mean of both samples.\r\n",
        "2. Using the bootstrap function that you created:\r\n",
        "    - Construct the 95% CI of the mean of the current fleet.\r\n",
        "    - Construct the 95% CI of the mean of the new fleet.\r\n",
        "    - Are they comparable? (i.e., is one better than the other?) -- you can do this with a permutation test (check the lecture notes!)"
      ]
    },
    {
      "cell_type": "code",
      "metadata": {
        "id": "po4mp6zRHC0m",
        "colab": {
          "base_uri": "https://localhost:8080/"
        },
        "outputId": "4ccb82d8-39c1-482e-e4e8-082a76a37c92"
      },
      "source": [
        "# <---INSERT YOUR CODE HERE--->\n",
        "current_fleet = df['Current fleet'].dropna()\n",
        "new_fleet = df['New Fleet'].dropna()\n",
        "mean_current_fleet = np.mean(current_fleet)\n",
        "mean_new_fleet = np.mean(new_fleet)\n",
        "\n",
        "d_c,l_c,u_c = bootstrap_mean(current_fleet, len(current_fleet),len(current_fleet))\n",
        "n_c,l_n,u_n = bootstrap_mean(current_fleet, len(new_fleet),len(new_fleet))\n",
        "print(d_c,l_c,u_c)\n",
        "print(n_c,l_n,u_n)"
      ],
      "execution_count": 11,
      "outputs": [
        {
          "output_type": "stream",
          "text": [
            "20.10649828228577 19.25863453815261 20.850602409638554\n",
            "20.186508572344177 18.509493670886076 21.70886075949367\n"
          ],
          "name": "stdout"
        }
      ]
    },
    {
      "cell_type": "code",
      "metadata": {
        "id": "MkxvDZG4HC0n"
      },
      "source": [
        "# Create your own function for a permutation test here (you will need it for the lab quiz!):\n",
        "def permut_test(sample1, sample2, n_permutations):\n",
        "    \"\"\"\n",
        "    sample1: 1D array\n",
        "    sample2: 1D array (note that the size of the two arrays can be different)\n",
        "    n_permutations: number of permutations to calculate the p-value\n",
        "    \"\"\"\n",
        "    mean_sample1 = np.mean(sample1)\n",
        "    mean_sample2 = np.mean(sample2)\n",
        "    concat = np.concatenate((sample1, sample2))\n",
        "    p = []\n",
        "    t_obs = mean_sample2 - mean_sample1\n",
        "    # print(t_obs)\n",
        "    for iter in range(n_permutations):\n",
        "      perm = np.random.permutation(concat)\n",
        "      pold = perm[:len(sample1)]\n",
        "      pnew = perm[len(sample1):]\n",
        "      t_perm = np.mean(pnew) - np.mean(pold)\n",
        "      # print(t_perm)\n",
        "      if t_perm > t_obs:\n",
        "        p.append(t_perm)\n",
        "    pvalue = len(p)/n_permutations\n",
        "    return pvalue"
      ],
      "execution_count": 12,
      "outputs": []
    },
    {
      "cell_type": "code",
      "metadata": {
        "colab": {
          "base_uri": "https://localhost:8080/"
        },
        "id": "SwO8WboNrjsL",
        "outputId": "30857018-e95c-4efc-bcf8-adc6af682d82"
      },
      "source": [
        "p = permut_test(current_fleet,new_fleet, 30000)\n",
        "print(p)"
      ],
      "execution_count": 13,
      "outputs": [
        {
          "output_type": "stream",
          "text": [
            "0.0\n"
          ],
          "name": "stdout"
        }
      ]
    },
    {
      "cell_type": "code",
      "metadata": {
        "id": "XeKLHDW5LKJt"
      },
      "source": [
        ""
      ],
      "execution_count": null,
      "outputs": []
    },
    {
      "cell_type": "code",
      "metadata": {
        "colab": {
          "base_uri": "https://localhost:8080/"
        },
        "id": "0pyqmQKawMcE",
        "outputId": "48beaff5-a61a-4cc4-c1f8-dd9b9c1cd5ed"
      },
      "source": [
        "#  Quiz\n",
        "# 90% Confidence Interval customer data\n",
        "# sales = df['Millons of pounds in sales']\n",
        "a, b, c = bootstrap_mean_ci(data, len(data), 10000, 95)\n",
        "print(a,b,c)"
      ],
      "execution_count": null,
      "outputs": [
        {
          "output_type": "stream",
          "text": [
            "9.212 6.428571428571429 12.357142857142858\n"
          ],
          "name": "stdout"
        }
      ]
    },
    {
      "cell_type": "code",
      "metadata": {
        "colab": {
          "base_uri": "https://localhost:8080/"
        },
        "id": "R_hwJ07IzFkv",
        "outputId": "3631a67f-c694-4375-ad63-b4b66a4dcedf"
      },
      "source": [
        "# 99% confidence Interval old vehicles\n",
        "x,y,z = bootstrap_mean_ci(current_fleet, len(current_fleet), 10000, 99)\n",
        "print(x,y,z)"
      ],
      "execution_count": null,
      "outputs": [
        {
          "output_type": "stream",
          "text": [
            "20.147704016064257 19.120481927710845 21.208855421686742\n"
          ],
          "name": "stdout"
        }
      ]
    },
    {
      "cell_type": "code",
      "metadata": {
        "id": "By_ME1Jrzx2z"
      },
      "source": [
        "def bootstrap_standard_deviation(x, sample_size, n_bootstraps):\n",
        "\t# <---INSERT YOUR CODE HERE--->\n",
        "  bootstraps = np.random.choice(x, (n_bootstraps, sample_size), replace=True)\n",
        "  bootstrap_std = np.std(bootstraps, axis=1)\n",
        "  data_std = np.std(bootstraps)\n",
        "  bootstrap_std_sorted = sorted(bootstrap_std)\n",
        "  lower = np.percentile(bootstrap_std_sorted, 2.5)\n",
        "  upper = np.percentile(bootstrap_std_sorted, 97.5)\n",
        "  return data_std, lower, upper"
      ],
      "execution_count": null,
      "outputs": []
    },
    {
      "cell_type": "code",
      "metadata": {
        "id": "jjqRG0X_MGoc"
      },
      "source": [
        "def bootstrap_standard_deviation_ci(x, sample_size, n_bootstraps, ci):\n",
        "\t# <---INSERT YOUR CODE HERE--->\n",
        "  bootstraps = np.random.choice(x, (n_bootstraps, sample_size), replace=True)\n",
        "  bootstrap_std = np.std(bootstraps, axis=1)\n",
        "  data_std = np.std(bootstraps)\n",
        "  bootstrap_std_sorted = sorted(bootstrap_std)\n",
        "  lower = np.percentile(bootstrap_std_sorted, (100 - ci) * 0.5)\n",
        "  upper = np.percentile(bootstrap_std_sorted, ((100 - ci) * 0.5) + ci)\n",
        "  return data_std, lower, upper"
      ],
      "execution_count": null,
      "outputs": []
    },
    {
      "cell_type": "code",
      "metadata": {
        "id": "ga1CRMuLMYhu",
        "colab": {
          "base_uri": "https://localhost:8080/"
        },
        "outputId": "1219c50e-6e79-4d31-f1dc-e0ec1ad205e6"
      },
      "source": [
        "u,v, w = bootstrap_standard_deviation_ci(current_fleet, len(current_fleet), 10000, 73)\n",
        "print(u,v,w)"
      ],
      "execution_count": null,
      "outputs": [
        {
          "output_type": "stream",
          "text": [
            "6.407735190675002 6.077966311933848 6.7006597907650685\n"
          ],
          "name": "stdout"
        }
      ]
    },
    {
      "cell_type": "code",
      "metadata": {
        "colab": {
          "base_uri": "https://localhost:8080/"
        },
        "id": "MsMFZU3e0fN_",
        "outputId": "2aaf77da-559e-4b9d-e0b4-fb32b2edf72b"
      },
      "source": [
        "i,j,k = bootstrap_standard_deviation(data, len(data), 10000)\n",
        "print(i,j,k)"
      ],
      "execution_count": null,
      "outputs": [
        {
          "output_type": "stream",
          "text": [
            "5.687189269264631 2.7114411746750005 7.372383659056719\n"
          ],
          "name": "stdout"
        }
      ]
    },
    {
      "cell_type": "code",
      "metadata": {
        "id": "2hwNiEna25nA"
      },
      "source": [
        "f = open(\"voting_data.py\", \"r\")\n",
        "lines = f.readlines()[1:]\n",
        "# parts = lines.split('\\n,')\n",
        "dem_share_PA_str = lines[0].split('=')[1].replace('[', \"\").replace(']',\"\").replace('\\n', \"\").split(',')\n",
        "dem_share_OH_str = lines[1].split('=')[1].replace('[', \"\").replace(']',\"\").replace('\\n', \"\").split(',')\n",
        "# print(lines)\n",
        "dem_share_PA_float = []\n",
        "dem_share_OH_float = []\n",
        "\n",
        "for elem in dem_share_PA_str:\n",
        "  dem_share_PA_float.append(float(elem))\n",
        "\n",
        "for elem in dem_share_OH_str:\n",
        "  dem_share_OH_float.append(float(elem))"
      ],
      "execution_count": 16,
      "outputs": []
    },
    {
      "cell_type": "code",
      "metadata": {
        "colab": {
          "base_uri": "https://localhost:8080/"
        },
        "id": "GOAarC82IAUW",
        "outputId": "a867fb51-d05a-4901-cf15-973e837202ee"
      },
      "source": [
        "m,n,o = bootstrap_mean_ci(dem_share_OH_float, len(dem_share_OH_float), 100000, 98)\n",
        "q,r,s = bootstrap_mean_ci(dem_share_PA_float, len(dem_share_PA_float), 100000, 98)\n",
        "print(m,n,o)\n",
        "print(q,r,s)"
      ],
      "execution_count": null,
      "outputs": [
        {
          "output_type": "stream",
          "text": [
            "44.31793694886367 41.87192954545455 46.764773863636364\n",
            "45.4757506208955 42.79790746268657 48.34045074626866\n"
          ],
          "name": "stdout"
        }
      ]
    },
    {
      "cell_type": "code",
      "metadata": {
        "colab": {
          "base_uri": "https://localhost:8080/"
        },
        "id": "xIYAdR33I3Po",
        "outputId": "60bec86f-a190-4151-da3c-721e4b1d5371"
      },
      "source": [
        "p_val_vote = permut_test(dem_share_PA_float,dem_share_OH_float,30000)\n",
        "print(p_val_vote)"
      ],
      "execution_count": 20,
      "outputs": [
        {
          "output_type": "stream",
          "text": [
            "0.7638\n"
          ],
          "name": "stdout"
        }
      ]
    },
    {
      "cell_type": "code",
      "metadata": {
        "colab": {
          "base_uri": "https://localhost:8080/"
        },
        "id": "AqJRkc9e6lMr",
        "outputId": "5fcdadcc-b3a5-454d-ab15-5f5ccb3042e5"
      },
      "source": [
        "%ls"
      ],
      "execution_count": null,
      "outputs": [
        {
          "output_type": "stream",
          "text": [
            "\u001b[0m\u001b[01;34msample_data\u001b[0m/  voting_data.py\n"
          ],
          "name": "stdout"
        }
      ]
    },
    {
      "cell_type": "code",
      "metadata": {
        "id": "UzRpFrYm6mbS"
      },
      "source": [
        ""
      ],
      "execution_count": null,
      "outputs": []
    }
  ]
}