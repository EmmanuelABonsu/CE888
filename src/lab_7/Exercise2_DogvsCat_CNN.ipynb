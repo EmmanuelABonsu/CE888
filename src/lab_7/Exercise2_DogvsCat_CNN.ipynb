{
  "nbformat": 4,
  "nbformat_minor": 0,
  "metadata": {
    "colab": {
      "name": "Copy of Exercise2_DogvsCat_CNN.ipynb",
      "provenance": [],
      "include_colab_link": true
    },
    "kernelspec": {
      "name": "python3",
      "display_name": "Python 3"
    },
    "accelerator": "GPU"
  },
  "cells": [
    {
      "cell_type": "markdown",
      "metadata": {
        "id": "view-in-github",
        "colab_type": "text"
      },
      "source": [
        "<a href=\"https://colab.research.google.com/github/EmmanuelABonsu/CE888/blob/main/src/lab_7/Exercise2_DogvsCat_CNN.ipynb\" target=\"_parent\"><img src=\"https://colab.research.google.com/assets/colab-badge.svg\" alt=\"Open In Colab\"/></a>"
      ]
    },
    {
      "cell_type": "markdown",
      "metadata": {
        "id": "qTh9DiKVslsJ"
      },
      "source": [
        "## Dogs vs. Cats \n",
        "\n",
        "In this competition, you'll write an algorithm to classify whether images contain either a dog or a cat.  This is easy for humans, dogs, and cats. Your computer will find it a bit more difficult.\n",
        "\n",
        "![alt text](https://miro.medium.com/max/3000/1*bhFifratH9DjKqMBTeQG5A.gif)\n",
        "\n",
        "Ref: https://medium.com/@thegrigorian/rolling-in-the-deep-cnn-c8d3f7108c8c"
      ]
    },
    {
      "cell_type": "markdown",
      "metadata": {
        "id": "RSBI-_mSSY1g"
      },
      "source": [
        "Get your API Key from Kaggle using following steps:\n",
        "1. Login to [Kaggle](https://www.kaggle.com/) or Register if you don't have account\n",
        "2. Open Dataset (https://www.kaggle.com/c/dogs-vs-cats/rules) and accept terms and condition. \n",
        "3. On the top right corner click on your Icon and go to accounts and press a button \"Create New API Token\". It will download a JSON file containing your username and key. \n",
        "4. Now, paste both below. \n"
      ]
    },
    {
      "cell_type": "code",
      "metadata": {
        "id": "YmXSOc0tZIGA",
        "colab": {
          "base_uri": "https://localhost:8080/"
        },
        "outputId": "75ae597f-6283-4960-90b1-af8e303018d6"
      },
      "source": [
        "import os\n",
        "os.environ['KAGGLE_USERNAME'] = \"emmanuelabonsu\" # username from the json file\n",
        "os.environ['KAGGLE_KEY'] = \"d4b88a763a7e0a737399b72ab6d2e026\" # key from the json file\n",
        "!kaggle competitions download -c dogs-vs-cats # api copied from kaggle (https://www.kaggle.com/c/dogs-vs-cats/data)"
      ],
      "execution_count": 54,
      "outputs": [
        {
          "output_type": "stream",
          "text": [
            "Warning: Looks like you're using an outdated API Version, please consider updating (server 1.5.12 / client 1.5.4)\n",
            "test1.zip: Skipping, found more recently modified local copy (use --force to force download)\n",
            "train.zip: Skipping, found more recently modified local copy (use --force to force download)\n",
            "sampleSubmission.csv: Skipping, found more recently modified local copy (use --force to force download)\n"
          ],
          "name": "stdout"
        }
      ]
    },
    {
      "cell_type": "code",
      "metadata": {
        "id": "PiwIL8d1n7eS",
        "colab": {
          "base_uri": "https://localhost:8080/"
        },
        "outputId": "4ed01a31-9579-4793-dadd-fbcc5bda71bc"
      },
      "source": [
        "# Unzip training data\n",
        "from zipfile import ZipFile\n",
        "file_name = \"/content/train.zip\"\n",
        "with ZipFile(file_name, 'r') as zip:\n",
        "  zip.extractall()\n",
        "  print('done')"
      ],
      "execution_count": 55,
      "outputs": [
        {
          "output_type": "stream",
          "text": [
            "done\n"
          ],
          "name": "stdout"
        }
      ]
    },
    {
      "cell_type": "code",
      "metadata": {
        "id": "sa2Bj5i7pPKV",
        "outputId": "57ca75cb-3c89-45bb-802d-38f45e794cf5",
        "colab": {
          "base_uri": "https://localhost:8080/"
        }
      },
      "source": [
        "# Get all the paths\n",
        "data_dir_list = os.listdir('/content/train')\n",
        "#print(data_dir_list)\n",
        "path, dirs, files = next(os.walk(\"/content/train\"))\n",
        "file_count = len(files)\n",
        "print(file_count)"
      ],
      "execution_count": 56,
      "outputs": [
        {
          "output_type": "stream",
          "text": [
            "25000\n"
          ],
          "name": "stdout"
        }
      ]
    },
    {
      "cell_type": "code",
      "metadata": {
        "id": "Xc9ZJ59l-p6R"
      },
      "source": [
        "# !ls"
      ],
      "execution_count": 57,
      "outputs": []
    },
    {
      "cell_type": "code",
      "metadata": {
        "id": "0ERlHkfHqpK8"
      },
      "source": [
        "# Make new base directory\n",
        "original_dataset_dir = '/content/train'\n",
        "base_dir = '/content/cats_and_dogs_small'\n",
        "os.mkdir(base_dir)"
      ],
      "execution_count": 58,
      "outputs": []
    },
    {
      "cell_type": "code",
      "metadata": {
        "id": "AANB1UJ6rQhM"
      },
      "source": [
        "train_dir = os.path.join(base_dir, 'train')\n",
        "os.mkdir(train_dir)\n",
        "\n",
        "validation_dir = os.path.join(base_dir, 'validation')\n",
        "os.mkdir(validation_dir)\n",
        "\n",
        "test_dir = os.path.join(base_dir, 'test')\n",
        "os.mkdir(test_dir)\n",
        "\n",
        "train_cats_dir = os.path.join(train_dir, 'cats')\n",
        "os.mkdir(train_cats_dir)\n",
        "\n",
        "train_dogs_dir = os.path.join(train_dir, 'dogs')\n",
        "os.mkdir(train_dogs_dir)\n",
        "\n",
        "validation_cats_dir = os.path.join(validation_dir, 'cats')\n",
        "os.mkdir(validation_cats_dir)\n",
        "\n",
        "validation_dogs_dir = os.path.join(validation_dir, 'dogs')\n",
        "os.mkdir(validation_dogs_dir)\n",
        "\n",
        "test_cats_dir = os.path.join(test_dir, 'cats')\n",
        "os.mkdir(test_cats_dir)\n",
        "\n",
        "test_dogs_dir = os.path.join(test_dir, 'dogs')\n",
        "os.mkdir(test_dogs_dir)"
      ],
      "execution_count": 59,
      "outputs": []
    },
    {
      "cell_type": "code",
      "metadata": {
        "id": "ULRgL9s9rV8T"
      },
      "source": [
        "import shutil\n",
        "fnames = ['cat.{}.jpg'.format(i) for i in range(1000)]\n",
        "for fname in fnames:\n",
        "    src = os.path.join(original_dataset_dir, fname)\n",
        "    dst = os.path.join(train_cats_dir, fname)\n",
        "    #print(src,dst)\n",
        "    shutil.copyfile(src, dst)\n",
        "    \n",
        "fnames = ['cat.{}.jpg'.format(i) for i in range(1000, 1500)]\n",
        "for fname in fnames:\n",
        "    src = os.path.join(original_dataset_dir, fname)\n",
        "    dst = os.path.join(validation_cats_dir, fname)\n",
        "    shutil.copyfile(src, dst)\n",
        "\n",
        "fnames = ['cat.{}.jpg'.format(i) for i in range(1500, 2000)]\n",
        "for fname in fnames:\n",
        "    src = os.path.join(original_dataset_dir, fname)\n",
        "    dst = os.path.join(test_cats_dir, fname)\n",
        "    shutil.copyfile(src, dst)\n",
        "    \n",
        "fnames = ['dog.{}.jpg'.format(i) for i in range(1000)]\n",
        "for fname in fnames:\n",
        "    src = os.path.join(original_dataset_dir, fname)\n",
        "    dst = os.path.join(train_dogs_dir, fname)\n",
        "    shutil.copyfile(src, dst)\n",
        "\n",
        "fnames = ['dog.{}.jpg'.format(i) for i in range(1000, 1500)]\n",
        "for fname in fnames:\n",
        "    src = os.path.join(original_dataset_dir, fname)\n",
        "    dst = os.path.join(validation_dogs_dir, fname)\n",
        "    shutil.copyfile(src, dst)\n",
        "\n",
        "fnames = ['dog.{}.jpg'.format(i) for i in range(1500, 2000)]\n",
        "for fname in fnames:\n",
        "    src = os.path.join(original_dataset_dir, fname)\n",
        "    dst = os.path.join(test_dogs_dir, fname)\n",
        "    shutil.copyfile(src, dst)"
      ],
      "execution_count": 60,
      "outputs": []
    },
    {
      "cell_type": "code",
      "metadata": {
        "id": "ul3XAbIyr7vC",
        "colab": {
          "base_uri": "https://localhost:8080/"
        },
        "outputId": "f3d49e2e-6a9b-40c3-8f03-7e47d27793af"
      },
      "source": [
        "print('total training cat images:', len(os.listdir(train_cats_dir)))\n",
        "print('total training dog images:', len(os.listdir(train_dogs_dir)))\n",
        "print('total validation cat images:', len(os.listdir(validation_cats_dir)))\n",
        "\n",
        "print('total validation dog images:', len(os.listdir(validation_dogs_dir)))\n",
        "print('total test cat images:', len(os.listdir(test_cats_dir)))\n",
        "print('total test dog images:', len(os.listdir(test_dogs_dir)))"
      ],
      "execution_count": 61,
      "outputs": [
        {
          "output_type": "stream",
          "text": [
            "total training cat images: 1000\n",
            "total training dog images: 1000\n",
            "total validation cat images: 500\n",
            "total validation dog images: 500\n",
            "total test cat images: 500\n",
            "total test dog images: 500\n"
          ],
          "name": "stdout"
        }
      ]
    },
    {
      "cell_type": "code",
      "metadata": {
        "id": "o9yTA21_r-ma",
        "colab": {
          "base_uri": "https://localhost:8080/"
        },
        "outputId": "f6cf0c37-5727-4a46-aa6c-71e8dfe7b0f2"
      },
      "source": [
        "from keras import layers\n",
        "from keras import models\n",
        "\n",
        "model = models.Sequential()\n",
        "model.add(layers.Conv2D(32, (3, 3), activation='relu', input_shape=(150, 150, 3)))\n",
        "model.add(layers.MaxPooling2D((2, 2)))\n",
        "model.add(layers.Conv2D(64, (3, 3), activation='relu'))\n",
        "model.add(layers.MaxPooling2D((2, 2)))\n",
        "model.add(layers.Conv2D(128, (3, 3), activation='relu'))\n",
        "model.add(layers.MaxPooling2D((2, 2)))\n",
        "model.add(layers.Conv2D(128, (3, 3), activation='relu'))\n",
        "model.add(layers.MaxPooling2D((2, 2)))\n",
        "model.add(layers.Flatten())\n",
        "model.add(layers.Dense(512, activation='relu'))\n",
        "model.add(layers.Dense(1, activation='sigmoid'))\n",
        "model.summary()"
      ],
      "execution_count": 62,
      "outputs": [
        {
          "output_type": "stream",
          "text": [
            "Model: \"sequential_21\"\n",
            "_________________________________________________________________\n",
            "Layer (type)                 Output Shape              Param #   \n",
            "=================================================================\n",
            "conv2d_84 (Conv2D)           (None, 148, 148, 32)      896       \n",
            "_________________________________________________________________\n",
            "max_pooling2d_84 (MaxPooling (None, 74, 74, 32)        0         \n",
            "_________________________________________________________________\n",
            "conv2d_85 (Conv2D)           (None, 72, 72, 64)        18496     \n",
            "_________________________________________________________________\n",
            "max_pooling2d_85 (MaxPooling (None, 36, 36, 64)        0         \n",
            "_________________________________________________________________\n",
            "conv2d_86 (Conv2D)           (None, 34, 34, 128)       73856     \n",
            "_________________________________________________________________\n",
            "max_pooling2d_86 (MaxPooling (None, 17, 17, 128)       0         \n",
            "_________________________________________________________________\n",
            "conv2d_87 (Conv2D)           (None, 15, 15, 128)       147584    \n",
            "_________________________________________________________________\n",
            "max_pooling2d_87 (MaxPooling (None, 7, 7, 128)         0         \n",
            "_________________________________________________________________\n",
            "flatten_21 (Flatten)         (None, 6272)              0         \n",
            "_________________________________________________________________\n",
            "dense_40 (Dense)             (None, 512)               3211776   \n",
            "_________________________________________________________________\n",
            "dense_41 (Dense)             (None, 1)                 513       \n",
            "=================================================================\n",
            "Total params: 3,453,121\n",
            "Trainable params: 3,453,121\n",
            "Non-trainable params: 0\n",
            "_________________________________________________________________\n"
          ],
          "name": "stdout"
        }
      ]
    },
    {
      "cell_type": "code",
      "metadata": {
        "id": "2mG8wekxsBVS"
      },
      "source": [
        "from keras import optimizers\n",
        "model.compile(loss='binary_crossentropy', \n",
        "              optimizer=optimizers.RMSprop(lr=1e-4),\n",
        "              metrics=['acc'])"
      ],
      "execution_count": 63,
      "outputs": []
    },
    {
      "cell_type": "markdown",
      "metadata": {
        "id": "7zS4Klm8qWp6"
      },
      "source": [
        "## Using ImageDataGenerator to read images from directories\n",
        "As you know by now, data should be formatted into appropriately preprocessed floatingpoint tensors before being fed into the network. Currently, the data sits on a drive as JPEG files, so the steps for getting it into the network are roughly as follows:\n",
        "\n",
        "* Read the picture files.\n",
        "* Decode the JPEG content to RGB grids of pixels.\n",
        "* Convert these into floating-point tensors.\n",
        "* Rescale the pixel values (between 0 and 255) to the [0, 1] interval (as you know, neural networks prefer to deal with small input values).\n",
        "\n",
        "It may seem a bit daunting, but fortunately Keras has utilities to take care of these steps automatically. Keras has a module with image-processing helper tools, located at keras.preprocessing.image. In particular, it contains the class ImageDataGenerator,which lets you quickly set up Python generators that can automatically turn image files on disk into batches of preprocessed tensors."
      ]
    },
    {
      "cell_type": "code",
      "metadata": {
        "id": "XJ7XU7t9sEh6",
        "colab": {
          "base_uri": "https://localhost:8080/"
        },
        "outputId": "96460aa6-ee69-4a85-ccd9-4e68420d4895"
      },
      "source": [
        "from keras.preprocessing.image import ImageDataGenerator\n",
        "\n",
        "train_datagen = ImageDataGenerator(rescale=1./255)\n",
        "test_datagen = ImageDataGenerator(rescale=1./255)\n",
        "\n",
        "train_generator = train_datagen.flow_from_directory(train_dir,\n",
        "                                                    target_size=(150, 150), \n",
        "                                                    batch_size=20,\n",
        "                                                    class_mode='binary')\n",
        "\n",
        "validation_generator = test_datagen.flow_from_directory(validation_dir,\n",
        "                                                        target_size=(150, 150),\n",
        "                                                        batch_size=20,\n",
        "                                                        class_mode='binary')"
      ],
      "execution_count": 64,
      "outputs": [
        {
          "output_type": "stream",
          "text": [
            "Found 2000 images belonging to 2 classes.\n",
            "Found 1000 images belonging to 2 classes.\n"
          ],
          "name": "stdout"
        }
      ]
    },
    {
      "cell_type": "markdown",
      "metadata": {
        "id": "SEgLywySqm4u"
      },
      "source": [
        "Let’s fit the model to the data using the generator. You do so using the fit_generator method, the equivalent of fit for data generators like this one. It expects as its first argument a Python generator that will yield batches of inputs and targets indefinitely,like this one does. Because the data is being generated endlessly, the Keras model needs to know how many samples to draw from the generator before declaring anepoch over. This is the role of the `steps_per_epoch` argument: after having drawn `steps_per_epoch` batches from the generator—that is, after having run for `steps_per_epoch` gradient descent steps—the fitting process will go to the next epoch. In this case, batches are 20 samples, so it will take 100 batches until you see your target of 2,000 samples.\n",
        "\n",
        "When using fit_generator, you can pass a validation_data argument, much as with the fit method. It’s important to note that this argument is allowed to be a data generator, but it could also be a tuple of Numpy arrays. If you pass a generator as validation_data, then this generator is expected to yield batches of validation data endlessly; thus you should also specify the validation_steps argument, which tells the process how many batches to draw from the validation generator for evaluation."
      ]
    },
    {
      "cell_type": "code",
      "metadata": {
        "id": "yMyfPphJsJG6",
        "colab": {
          "base_uri": "https://localhost:8080/"
        },
        "outputId": "7d4086a5-1761-4a01-9d9c-433be4bdd6c1"
      },
      "source": [
        "history = model.fit_generator(train_generator,\n",
        "                              steps_per_epoch=100,\n",
        "                              epochs=30,\n",
        "                              validation_data=validation_generator,\n",
        "                              validation_steps=10)"
      ],
      "execution_count": 65,
      "outputs": [
        {
          "output_type": "stream",
          "text": [
            "/usr/local/lib/python3.7/dist-packages/tensorflow/python/keras/engine/training.py:1844: UserWarning: `Model.fit_generator` is deprecated and will be removed in a future version. Please use `Model.fit`, which supports generators.\n",
            "  warnings.warn('`Model.fit_generator` is deprecated and '\n"
          ],
          "name": "stderr"
        },
        {
          "output_type": "stream",
          "text": [
            "Epoch 1/30\n",
            "100/100 [==============================] - 10s 91ms/step - loss: 0.6922 - acc: 0.5222 - val_loss: 0.6690 - val_acc: 0.6850\n",
            "Epoch 2/30\n",
            "100/100 [==============================] - 9s 87ms/step - loss: 0.6564 - acc: 0.6189 - val_loss: 0.6304 - val_acc: 0.6500\n",
            "Epoch 3/30\n",
            "100/100 [==============================] - 9s 87ms/step - loss: 0.6091 - acc: 0.6610 - val_loss: 0.6502 - val_acc: 0.6000\n",
            "Epoch 4/30\n",
            "100/100 [==============================] - 9s 87ms/step - loss: 0.5828 - acc: 0.7023 - val_loss: 0.5865 - val_acc: 0.7050\n",
            "Epoch 5/30\n",
            "100/100 [==============================] - 9s 86ms/step - loss: 0.5331 - acc: 0.7369 - val_loss: 0.5919 - val_acc: 0.6650\n",
            "Epoch 6/30\n",
            "100/100 [==============================] - 8s 85ms/step - loss: 0.5108 - acc: 0.7551 - val_loss: 0.5856 - val_acc: 0.6850\n",
            "Epoch 7/30\n",
            "100/100 [==============================] - 9s 85ms/step - loss: 0.4781 - acc: 0.7613 - val_loss: 0.5569 - val_acc: 0.7050\n",
            "Epoch 8/30\n",
            "100/100 [==============================] - 9s 86ms/step - loss: 0.4736 - acc: 0.7750 - val_loss: 0.5202 - val_acc: 0.7600\n",
            "Epoch 9/30\n",
            "100/100 [==============================] - 9s 87ms/step - loss: 0.4355 - acc: 0.8004 - val_loss: 0.5616 - val_acc: 0.7250\n",
            "Epoch 10/30\n",
            "100/100 [==============================] - 9s 85ms/step - loss: 0.4042 - acc: 0.8190 - val_loss: 0.5979 - val_acc: 0.7350\n",
            "Epoch 11/30\n",
            "100/100 [==============================] - 9s 86ms/step - loss: 0.3789 - acc: 0.8301 - val_loss: 0.5623 - val_acc: 0.7150\n",
            "Epoch 12/30\n",
            "100/100 [==============================] - 9s 86ms/step - loss: 0.3562 - acc: 0.8453 - val_loss: 0.5307 - val_acc: 0.7250\n",
            "Epoch 13/30\n",
            "100/100 [==============================] - 9s 86ms/step - loss: 0.3354 - acc: 0.8649 - val_loss: 0.4853 - val_acc: 0.7600\n",
            "Epoch 14/30\n",
            "100/100 [==============================] - 9s 85ms/step - loss: 0.3281 - acc: 0.8572 - val_loss: 0.6249 - val_acc: 0.7200\n",
            "Epoch 15/30\n",
            "100/100 [==============================] - 9s 87ms/step - loss: 0.2998 - acc: 0.8751 - val_loss: 0.6698 - val_acc: 0.6750\n",
            "Epoch 16/30\n",
            "100/100 [==============================] - 9s 86ms/step - loss: 0.2838 - acc: 0.8873 - val_loss: 0.5751 - val_acc: 0.7250\n",
            "Epoch 17/30\n",
            "100/100 [==============================] - 9s 85ms/step - loss: 0.2517 - acc: 0.8938 - val_loss: 0.6700 - val_acc: 0.6700\n",
            "Epoch 18/30\n",
            "100/100 [==============================] - 9s 86ms/step - loss: 0.2302 - acc: 0.9110 - val_loss: 0.6229 - val_acc: 0.7500\n",
            "Epoch 19/30\n",
            "100/100 [==============================] - 9s 86ms/step - loss: 0.2319 - acc: 0.9187 - val_loss: 0.6032 - val_acc: 0.7150\n",
            "Epoch 20/30\n",
            "100/100 [==============================] - 9s 88ms/step - loss: 0.1988 - acc: 0.9263 - val_loss: 0.6648 - val_acc: 0.7150\n",
            "Epoch 21/30\n",
            "100/100 [==============================] - 9s 88ms/step - loss: 0.1935 - acc: 0.9255 - val_loss: 0.5611 - val_acc: 0.7550\n",
            "Epoch 22/30\n",
            "100/100 [==============================] - 9s 87ms/step - loss: 0.1609 - acc: 0.9486 - val_loss: 0.5639 - val_acc: 0.7700\n",
            "Epoch 23/30\n",
            "100/100 [==============================] - 9s 87ms/step - loss: 0.1476 - acc: 0.9490 - val_loss: 0.7256 - val_acc: 0.7300\n",
            "Epoch 24/30\n",
            "100/100 [==============================] - 9s 87ms/step - loss: 0.1270 - acc: 0.9611 - val_loss: 0.8438 - val_acc: 0.7150\n",
            "Epoch 25/30\n",
            "100/100 [==============================] - 9s 86ms/step - loss: 0.1048 - acc: 0.9726 - val_loss: 0.7269 - val_acc: 0.6800\n",
            "Epoch 26/30\n",
            "100/100 [==============================] - 9s 88ms/step - loss: 0.1046 - acc: 0.9715 - val_loss: 0.6455 - val_acc: 0.7500\n",
            "Epoch 27/30\n",
            "100/100 [==============================] - 9s 88ms/step - loss: 0.0716 - acc: 0.9829 - val_loss: 0.7259 - val_acc: 0.7750\n",
            "Epoch 28/30\n",
            "100/100 [==============================] - 9s 88ms/step - loss: 0.0654 - acc: 0.9817 - val_loss: 0.8269 - val_acc: 0.7150\n",
            "Epoch 29/30\n",
            "100/100 [==============================] - 9s 86ms/step - loss: 0.0549 - acc: 0.9884 - val_loss: 0.9523 - val_acc: 0.7450\n",
            "Epoch 30/30\n",
            "100/100 [==============================] - 9s 86ms/step - loss: 0.0505 - acc: 0.9905 - val_loss: 0.9658 - val_acc: 0.7350\n"
          ],
          "name": "stdout"
        }
      ]
    },
    {
      "cell_type": "code",
      "metadata": {
        "id": "MZaZ2HWZsNUi",
        "colab": {
          "base_uri": "https://localhost:8080/",
          "height": 545
        },
        "outputId": "a67d925c-8410-45b2-9e3e-80075a2ac5ae"
      },
      "source": [
        "model.save('cats_and_dogs_small_1.h5')\n",
        "\n",
        "import matplotlib.pyplot as plt\n",
        "\n",
        "acc = history.history['acc']\n",
        "val_acc = history.history['val_acc']\n",
        "loss = history.history['loss']\n",
        "val_loss = history.history['val_loss']\n",
        "\n",
        "epochs = range(1, len(acc) + 1)\n",
        "\n",
        "plt.plot(epochs, acc, 'bo', label='Training acc')\n",
        "plt.plot(epochs, val_acc, 'b', label='Validation acc')\n",
        "plt.title('Training and validation accuracy')\n",
        "plt.legend()\n",
        "\n",
        "plt.figure()\n",
        "\n",
        "plt.plot(epochs, loss, 'bo', label='Training loss')\n",
        "plt.plot(epochs, val_loss, 'b', label='Validation loss')\n",
        "plt.title('Training and validation loss')\n",
        "plt.legend()\n",
        "\n",
        "plt.show()"
      ],
      "execution_count": 66,
      "outputs": [
        {
          "output_type": "display_data",
          "data": {
            "image/png": "[encoded data removed]",
            "text/plain": [
              "<Figure size 432x288 with 1 Axes>"
            ]
          },
          "metadata": {
            "tags": [],
            "needs_background": "light"
          }
        },
        {
          "output_type": "display_data",
          "data": {
            "image/png": "[encoded data removed]",
            "text/plain": [
              "<Figure size 432x288 with 1 Axes>"
            ]
          },
          "metadata": {
            "tags": [],
            "needs_background": "light"
          }
        }
      ]
    },
    {
      "cell_type": "markdown",
      "metadata": {
        "id": "XKZmXmBcq_8-"
      },
      "source": [
        "## Convolutional Networks with Dropout\n",
        "\n",
        "![alt text](https://camo.githubusercontent.com/ee6fa1073247cd2c3d241300caf110d7a7541bc5/68747470733a2f2f63646e2d696d616765732d312e6d656469756d2e636f6d2f6d61782f3830302f312a4972644a355067684439596f4f7956415137334d4a772e676966)\n",
        "\n",
        "Ref: https://github.com/mneha4/Training-Neural-Nets---Guidelines"
      ]
    },
    {
      "cell_type": "code",
      "metadata": {
        "id": "wu3cqeYQrDeN"
      },
      "source": [
        "model = models.Sequential()\n",
        "model.add(layers.Conv2D(32, (3, 3), activation='relu',\n",
        "input_shape=(150, 150, 3)))\n",
        "model.add(layers.MaxPooling2D((2, 2)))\n",
        "model.add(layers.Conv2D(64, (3, 3), activation='relu'))\n",
        "model.add(layers.MaxPooling2D((2, 2)))\n",
        "model.add(layers.Conv2D(128, (3, 3), activation='relu'))\n",
        "model.add(layers.MaxPooling2D((2, 2)))\n",
        "model.add(layers.Conv2D(128, (3, 3), activation='relu'))\n",
        "model.add(layers.MaxPooling2D((2, 2)))\n",
        "model.add(layers.Flatten())\n",
        "model.add(layers.Dropout(0.5))\n",
        "model.add(layers.Dense(512, activation='relu'))\n",
        "model.add(layers.Dense(1, activation='sigmoid'))\n",
        "\n",
        "model.compile(loss='binary_crossentropy',\n",
        "              optimizer=optimizers.RMSprop(lr=1e-4),\n",
        "              metrics=['acc'])"
      ],
      "execution_count": 67,
      "outputs": []
    },
    {
      "cell_type": "code",
      "metadata": {
        "id": "QSeLpvY0rH7F",
        "colab": {
          "base_uri": "https://localhost:8080/"
        },
        "outputId": "4b4c298c-7e56-4074-b684-95eda0cecf38"
      },
      "source": [
        "\n",
        "train_datagen = ImageDataGenerator(rescale=1./255,\n",
        "                                   rotation_range=40,\n",
        "                                   width_shift_range=0.2,\n",
        "                                   height_shift_range=0.2,\n",
        "                                   shear_range=0.2,\n",
        "                                   zoom_range=0.2,\n",
        "                                   horizontal_flip=True,)\n",
        "\n",
        "test_datagen = ImageDataGenerator(rescale=1./255)\n",
        "\n",
        "train_generator = train_datagen.flow_from_directory(train_dir,\n",
        "                                                    target_size=(150, 150),\n",
        "                                                    batch_size=20,\n",
        "                                                    class_mode='binary')\n",
        "\n",
        "validation_generator = test_datagen.flow_from_directory(validation_dir,\n",
        "                                                        target_size=(150, 150),\n",
        "                                                        batch_size=20,\n",
        "                                                        class_mode='binary')\n",
        "\n",
        "history = model.fit_generator(train_generator,\n",
        "                              steps_per_epoch=100,\n",
        "                              epochs=20,\n",
        "                              validation_data=validation_generator,\n",
        "                              validation_steps=50)"
      ],
      "execution_count": 68,
      "outputs": [
        {
          "output_type": "stream",
          "text": [
            "Found 2000 images belonging to 2 classes.\n",
            "Found 1000 images belonging to 2 classes.\n"
          ],
          "name": "stdout"
        },
        {
          "output_type": "stream",
          "text": [
            "/usr/local/lib/python3.7/dist-packages/tensorflow/python/keras/engine/training.py:1844: UserWarning: `Model.fit_generator` is deprecated and will be removed in a future version. Please use `Model.fit`, which supports generators.\n",
            "  warnings.warn('`Model.fit_generator` is deprecated and '\n"
          ],
          "name": "stderr"
        },
        {
          "output_type": "stream",
          "text": [
            "Epoch 1/20\n",
            "100/100 [==============================] - 22s 213ms/step - loss: 0.6934 - acc: 0.5328 - val_loss: 0.6831 - val_acc: 0.5870\n",
            "Epoch 2/20\n",
            "100/100 [==============================] - 21s 207ms/step - loss: 0.6848 - acc: 0.5489 - val_loss: 0.6826 - val_acc: 0.5100\n",
            "Epoch 3/20\n",
            "100/100 [==============================] - 21s 205ms/step - loss: 0.6705 - acc: 0.5812 - val_loss: 0.6479 - val_acc: 0.6140\n",
            "Epoch 4/20\n",
            "100/100 [==============================] - 21s 206ms/step - loss: 0.6671 - acc: 0.5820 - val_loss: 0.6398 - val_acc: 0.6190\n",
            "Epoch 5/20\n",
            "100/100 [==============================] - 20s 205ms/step - loss: 0.6529 - acc: 0.6053 - val_loss: 0.6114 - val_acc: 0.6620\n",
            "Epoch 6/20\n",
            "100/100 [==============================] - 20s 204ms/step - loss: 0.6433 - acc: 0.6160 - val_loss: 0.6048 - val_acc: 0.6530\n",
            "Epoch 7/20\n",
            "100/100 [==============================] - 21s 205ms/step - loss: 0.6114 - acc: 0.6658 - val_loss: 0.5981 - val_acc: 0.6760\n",
            "Epoch 8/20\n",
            "100/100 [==============================] - 20s 204ms/step - loss: 0.6261 - acc: 0.6378 - val_loss: 0.5815 - val_acc: 0.6780\n",
            "Epoch 9/20\n",
            "100/100 [==============================] - 21s 208ms/step - loss: 0.6056 - acc: 0.6786 - val_loss: 0.5721 - val_acc: 0.6980\n",
            "Epoch 10/20\n",
            "100/100 [==============================] - 21s 208ms/step - loss: 0.5960 - acc: 0.6796 - val_loss: 0.6926 - val_acc: 0.6180\n",
            "Epoch 11/20\n",
            "100/100 [==============================] - 21s 207ms/step - loss: 0.6163 - acc: 0.6576 - val_loss: 0.6413 - val_acc: 0.6280\n",
            "Epoch 12/20\n",
            "100/100 [==============================] - 20s 205ms/step - loss: 0.5940 - acc: 0.6797 - val_loss: 0.5985 - val_acc: 0.6700\n",
            "Epoch 13/20\n",
            "100/100 [==============================] - 20s 205ms/step - loss: 0.5938 - acc: 0.6944 - val_loss: 0.5589 - val_acc: 0.6990\n",
            "Epoch 14/20\n",
            "100/100 [==============================] - 20s 202ms/step - loss: 0.5913 - acc: 0.6781 - val_loss: 0.5607 - val_acc: 0.6950\n",
            "Epoch 15/20\n",
            "100/100 [==============================] - 20s 203ms/step - loss: 0.5589 - acc: 0.7165 - val_loss: 0.5301 - val_acc: 0.7230\n",
            "Epoch 16/20\n",
            "100/100 [==============================] - 20s 203ms/step - loss: 0.5619 - acc: 0.7244 - val_loss: 0.5503 - val_acc: 0.7040\n",
            "Epoch 17/20\n",
            "100/100 [==============================] - 21s 205ms/step - loss: 0.5592 - acc: 0.7071 - val_loss: 0.5357 - val_acc: 0.7180\n",
            "Epoch 18/20\n",
            "100/100 [==============================] - 21s 208ms/step - loss: 0.5458 - acc: 0.7167 - val_loss: 0.5694 - val_acc: 0.6950\n",
            "Epoch 19/20\n",
            "100/100 [==============================] - 21s 207ms/step - loss: 0.5357 - acc: 0.7294 - val_loss: 0.6276 - val_acc: 0.6780\n",
            "Epoch 20/20\n",
            "100/100 [==============================] - 21s 210ms/step - loss: 0.5300 - acc: 0.7314 - val_loss: 0.5743 - val_acc: 0.7040\n"
          ],
          "name": "stdout"
        }
      ]
    },
    {
      "cell_type": "markdown",
      "metadata": {
        "id": "BRdU5yrkUF_b"
      },
      "source": [
        "# Task 2:\n",
        "\n",
        "We have used Dropout to enhance the performance of the CNN model. Can you please use whatever you like to further enhance the performance from `val_acc: 0.7506`? "
      ]
    },
    {
      "cell_type": "code",
      "metadata": {
        "id": "VOkIvSZcz2Zz",
        "outputId": "10085064-f7c8-4259-afbc-d65ddf3fb0b3",
        "colab": {
          "base_uri": "https://localhost:8080/"
        }
      },
      "source": [
        "model = models.Sequential()\n",
        "model.add(layers.Conv2D(32, (3, 3), activation='relu',\n",
        "input_shape=(150, 150, 3)))\n",
        "model.add(layers.MaxPooling2D((2, 2)))\n",
        "\n",
        "model.add(layers.Conv2D(64, (3, 3), activation='relu'))\n",
        "model.add(layers.MaxPooling2D((2, 2)))\n",
        "\n",
        "model.add(layers.Conv2D(128, (3, 3), activation='relu'))\n",
        "model.add(layers.MaxPooling2D((2, 2)))\n",
        "\n",
        "model.add(layers.Conv2D(128, (3, 3), activation='relu'))\n",
        "model.add(layers.MaxPooling2D((2, 2)))\n",
        "model.add(layers.Flatten())\n",
        "model.add(layers.Dropout(0.5))\n",
        "\n",
        "model.add(layers.Dense(512, activation='relu'))\n",
        "model.add(layers.Dense(1, activation='sigmoid'))\n",
        "\n",
        "model.compile(loss='binary_crossentropy',\n",
        "              optimizer=optimizers.RMSprop(lr=1e-4),\n",
        "              metrics=['acc'])\n",
        "\n",
        "\n",
        "              \n",
        "train_datagen = ImageDataGenerator(rescale=1./255,\n",
        "                                   rotation_range=40,\n",
        "                                   width_shift_range=0.2,\n",
        "                                   height_shift_range=0.2,\n",
        "                                   shear_range=0.2,\n",
        "                                   zoom_range=0.2,\n",
        "                                   horizontal_flip=True,)\n",
        "\n",
        "test_datagen = ImageDataGenerator(rescale=1./255)\n",
        "\n",
        "train_generator = train_datagen.flow_from_directory(train_dir,\n",
        "                                                    target_size=(150, 150),\n",
        "                                                    batch_size=20,\n",
        "                                                    class_mode='binary')\n",
        "\n",
        "validation_generator = test_datagen.flow_from_directory(validation_dir,\n",
        "                                                        target_size=(150, 150),\n",
        "                                                        batch_size=20,\n",
        "                                                        class_mode='binary')\n",
        "\n",
        "history = model.fit_generator(train_generator,\n",
        "                              steps_per_epoch=100,\n",
        "                              epochs=20,\n",
        "                              validation_data=validation_generator,\n",
        "                              validation_steps=50)\n"
      ],
      "execution_count": 82,
      "outputs": [
        {
          "output_type": "stream",
          "text": [
            "Found 2000 images belonging to 2 classes.\n",
            "Found 1000 images belonging to 2 classes.\n"
          ],
          "name": "stdout"
        },
        {
          "output_type": "stream",
          "text": [
            "/usr/local/lib/python3.7/dist-packages/tensorflow/python/keras/engine/training.py:1844: UserWarning: `Model.fit_generator` is deprecated and will be removed in a future version. Please use `Model.fit`, which supports generators.\n",
            "  warnings.warn('`Model.fit_generator` is deprecated and '\n"
          ],
          "name": "stderr"
        },
        {
          "output_type": "stream",
          "text": [
            "Epoch 1/20\n",
            "100/100 [==============================] - 22s 213ms/step - loss: 0.6965 - acc: 0.4884 - val_loss: 0.6819 - val_acc: 0.6040\n",
            "Epoch 2/20\n",
            "100/100 [==============================] - 21s 209ms/step - loss: 0.6879 - acc: 0.5352 - val_loss: 0.6599 - val_acc: 0.5980\n",
            "Epoch 3/20\n",
            "100/100 [==============================] - 21s 208ms/step - loss: 0.6727 - acc: 0.5805 - val_loss: 0.6449 - val_acc: 0.6100\n",
            "Epoch 4/20\n",
            "100/100 [==============================] - 21s 208ms/step - loss: 0.6654 - acc: 0.5846 - val_loss: 0.6343 - val_acc: 0.6420\n",
            "Epoch 5/20\n",
            "100/100 [==============================] - 21s 209ms/step - loss: 0.6424 - acc: 0.6144 - val_loss: 0.6788 - val_acc: 0.5460\n",
            "Epoch 6/20\n",
            "100/100 [==============================] - 21s 208ms/step - loss: 0.6218 - acc: 0.6369 - val_loss: 0.6153 - val_acc: 0.6510\n",
            "Epoch 7/20\n",
            "100/100 [==============================] - 21s 207ms/step - loss: 0.6149 - acc: 0.6503 - val_loss: 0.5976 - val_acc: 0.6810\n",
            "Epoch 8/20\n",
            "100/100 [==============================] - 21s 207ms/step - loss: 0.6161 - acc: 0.6566 - val_loss: 0.6076 - val_acc: 0.6590\n",
            "Epoch 9/20\n",
            "100/100 [==============================] - 21s 211ms/step - loss: 0.6041 - acc: 0.6599 - val_loss: 0.5860 - val_acc: 0.6690\n",
            "Epoch 10/20\n",
            "100/100 [==============================] - 22s 216ms/step - loss: 0.5998 - acc: 0.6506 - val_loss: 0.5821 - val_acc: 0.6950\n",
            "Epoch 11/20\n",
            "100/100 [==============================] - 21s 214ms/step - loss: 0.5863 - acc: 0.6962 - val_loss: 0.5986 - val_acc: 0.6620\n",
            "Epoch 12/20\n",
            "100/100 [==============================] - 21s 215ms/step - loss: 0.5671 - acc: 0.6941 - val_loss: 0.6039 - val_acc: 0.6680\n",
            "Epoch 13/20\n",
            "100/100 [==============================] - 21s 212ms/step - loss: 0.5897 - acc: 0.6903 - val_loss: 0.5573 - val_acc: 0.7140\n",
            "Epoch 14/20\n",
            "100/100 [==============================] - 21s 212ms/step - loss: 0.5752 - acc: 0.6830 - val_loss: 0.5644 - val_acc: 0.6870\n",
            "Epoch 15/20\n",
            "100/100 [==============================] - 21s 211ms/step - loss: 0.5553 - acc: 0.7137 - val_loss: 0.5450 - val_acc: 0.7180\n",
            "Epoch 16/20\n",
            "100/100 [==============================] - 21s 210ms/step - loss: 0.5718 - acc: 0.6920 - val_loss: 0.6220 - val_acc: 0.6450\n",
            "Epoch 17/20\n",
            "100/100 [==============================] - 21s 210ms/step - loss: 0.5510 - acc: 0.7135 - val_loss: 0.5564 - val_acc: 0.7060\n",
            "Epoch 18/20\n",
            "100/100 [==============================] - 21s 213ms/step - loss: 0.5725 - acc: 0.6966 - val_loss: 0.5510 - val_acc: 0.7240\n",
            "Epoch 19/20\n",
            "100/100 [==============================] - 21s 215ms/step - loss: 0.5258 - acc: 0.7327 - val_loss: 0.5575 - val_acc: 0.7110\n",
            "Epoch 20/20\n",
            "100/100 [==============================] - 21s 215ms/step - loss: 0.5359 - acc: 0.7225 - val_loss: 0.5329 - val_acc: 0.7190\n"
          ],
          "name": "stdout"
        }
      ]
    }
  ]
}