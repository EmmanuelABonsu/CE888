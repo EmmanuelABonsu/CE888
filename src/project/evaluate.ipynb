{
  "nbformat": 4,
  "nbformat_minor": 0,
  "metadata": {
    "kernelspec": {
      "language": "python",
      "display_name": "Python 3",
      "name": "python3"
    },
    "language_info": {
      "name": "python",
      "version": "3.7.10",
      "mimetype": "text/x-python",
      "codemirror_mode": {
        "name": "ipython",
        "version": 3
      },
      "pygments_lexer": "ipython3",
      "nbconvert_exporter": "python",
      "file_extension": ".py"
    },
    "colab": {
      "name": "evaluate.ipynb",
      "provenance": [],
      "include_colab_link": true
    }
  },
  "cells": [
    {
      "cell_type": "markdown",
      "metadata": {
        "id": "view-in-github",
        "colab_type": "text"
      },
      "source": [
        "<a href=\"https://colab.research.google.com/github/EmmanuelABonsu/CE888/blob/main/src/project/evaluate.ipynb\" target=\"_parent\"><img src=\"https://colab.research.google.com/assets/colab-badge.svg\" alt=\"Open In Colab\"/></a>"
      ]
    },
    {
      "cell_type": "code",
      "metadata": {
        "id": "8b0Xmt7nCG_m",
        "trusted": true
      },
      "source": [
        "# from google.colab import drive\n",
        "# drive.mount('/content/drive')"
      ],
      "execution_count": null,
      "outputs": []
    },
    {
      "cell_type": "code",
      "metadata": {
        "id": "cZKggmbspFpy",
        "trusted": true
      },
      "source": [
        "# Import Libraries\n",
        "from tensorflow import keras\n",
        "from tensorflow.keras.preprocessing.image import ImageDataGenerator\n",
        "import numpy as np\n",
        "from sklearn.metrics import confusion_matrix\n",
        "import seaborn as sn"
      ],
      "execution_count": null,
      "outputs": []
    },
    {
      "cell_type": "code",
      "metadata": {
        "trusted": true,
        "id": "AMl3B9Kn_W6J"
      },
      "source": [
        "# Define path to test data \n",
        "test_path = \"../input/fire-detection-data/Test/Test\""
      ],
      "execution_count": null,
      "outputs": []
    },
    {
      "cell_type": "code",
      "metadata": {
        "trusted": true,
        "id": "MAX_OZPc_W6J"
      },
      "source": [
        "untuned_model = keras.models.load_model('../input/forest-fires-classification/Xception_model.h5')"
      ],
      "execution_count": null,
      "outputs": []
    },
    {
      "cell_type": "code",
      "metadata": {
        "id": "cVIFWsxf6KIn",
        "trusted": true
      },
      "source": [
        "# Load Fine Tuned Model\n",
        "fine_tuned_model = keras.models.load_model('../input/fire-detection-data/fine_tuned_xception_model.h5')"
      ],
      "execution_count": null,
      "outputs": []
    },
    {
      "cell_type": "code",
      "metadata": {
        "id": "azfqXILMp1ZV",
        "trusted": true,
        "outputId": "1d70594c-ae1d-49e2-b777-4946ff88986a"
      },
      "source": [
        "# Initialize tess data pipeline\n",
        "test_datagen = ImageDataGenerator(rescale=1./255)\n",
        "test_generator = test_datagen.flow_from_directory(\n",
        "        test_path,\n",
        "        target_size=(254, 254),\n",
        "        shuffle = False,\n",
        "        class_mode='binary',\n",
        "        batch_size=8)"
      ],
      "execution_count": null,
      "outputs": [
        {
          "output_type": "stream",
          "text": [
            "Found 8617 images belonging to 2 classes.\n"
          ],
          "name": "stdout"
        }
      ]
    },
    {
      "cell_type": "code",
      "metadata": {
        "id": "c2yW9f4iiWeh",
        "trusted": true,
        "outputId": "f4378448-1a93-4b3c-cee8-550cc52c5d1c"
      },
      "source": [
        "# Evaluate Untuned model \n",
        "untuned_model.evaluate(test_generator)"
      ],
      "execution_count": null,
      "outputs": [
        {
          "output_type": "stream",
          "text": [
            "1078/1078 [==============================] - 57s 52ms/step - loss: 0.7594 - acc: 0.7002\n"
          ],
          "name": "stdout"
        },
        {
          "output_type": "execute_result",
          "data": {
            "text/plain": [
              "[0.7594279646873474, 0.7002437114715576]"
            ]
          },
          "metadata": {
            "tags": []
          },
          "execution_count": 41
        }
      ]
    },
    {
      "cell_type": "code",
      "metadata": {
        "id": "Vsbl5UUMr3vZ",
        "trusted": true
      },
      "source": [
        "# Generate predictions on test data\n",
        "test_steps_per_epoch = np.math.ceil(test_generator.samples / test_generator.batch_size)\n",
        "predictions_for_untuned_model = untuned_model.predict(test_generator, steps=test_steps_per_epoch)\n"
      ],
      "execution_count": null,
      "outputs": []
    },
    {
      "cell_type": "code",
      "metadata": {
        "id": "oZBQb-MhiFeo",
        "trusted": true
      },
      "source": [
        "# Converting predionts into model labels [0, 1]\n",
        "pred_list = list(predictions_for_untuned_model)\n",
        "predicted_classes_untuned_model = [1 if entry > 0.5 else 0 for entry in pred_list]"
      ],
      "execution_count": null,
      "outputs": []
    },
    {
      "cell_type": "code",
      "metadata": {
        "id": "iERLEzo-jYi2",
        "trusted": true
      },
      "source": [
        "# Extracting true classes,[0, 1] from test generator \n",
        "true_classes = test_generator.classes"
      ],
      "execution_count": null,
      "outputs": []
    },
    {
      "cell_type": "code",
      "metadata": {
        "id": "e1RR_KIwejh2",
        "trusted": true,
        "outputId": "59dd8e00-b04b-4e7c-aa78-4ed21d14c062"
      },
      "source": [
        "# Plotting Confusion Matrix\n",
        "cm=confusion_matrix(true_classes,predicted_classes_untuned_model)\n",
        "sn.heatmap(cm,annot=True,cmap='Blues', fmt='g',xticklabels=['Fire', 'No_Fire'], yticklabels=['Fire', 'No_Fire']) #Fire --> 0 and No_Fire --> 1"
      ],
      "execution_count": null,
      "outputs": [
        {
          "output_type": "execute_result",
          "data": {
            "text/plain": [
              "<AxesSubplot:>"
            ]
          },
          "metadata": {
            "tags": []
          },
          "execution_count": 45
        },
        {
          "output_type": "display_data",
          "data": {
            "text/plain": [
              "<Figure size 432x288 with 2 Axes>"
            ],
            "image/png": "[encoded data removed]"
          },
          "metadata": {
            "tags": [],
            "needs_background": "light"
          }
        }
      ]
    },
    {
      "cell_type": "code",
      "metadata": {
        "trusted": true,
        "id": "6WOOu0At_W6M",
        "outputId": "431c0a07-a712-4f8d-a9cc-33037992cbab"
      },
      "source": [
        "# Evaluate Fine tuned model\n",
        "fine_tuned_model.evaluate(test_generator)"
      ],
      "execution_count": null,
      "outputs": [
        {
          "output_type": "stream",
          "text": [
            "1078/1078 [==============================] - 59s 54ms/step - loss: 0.7988 - acc: 0.8681\n"
          ],
          "name": "stdout"
        },
        {
          "output_type": "execute_result",
          "data": {
            "text/plain": [
              "[0.7987954020500183, 0.8680515289306641]"
            ]
          },
          "metadata": {
            "tags": []
          },
          "execution_count": 46
        }
      ]
    },
    {
      "cell_type": "code",
      "metadata": {
        "trusted": true,
        "id": "G12lpUlc_W6M"
      },
      "source": [
        "# Predicions for fine tuned model\n",
        "predictions_for_fine_tuned_model = fine_tuned_model.predict(test_generator, steps=test_steps_per_epoch)\n"
      ],
      "execution_count": null,
      "outputs": []
    },
    {
      "cell_type": "code",
      "metadata": {
        "trusted": true,
        "id": "Kp01bx1L_W6M"
      },
      "source": [
        "# Converting predionts into model labels [0, 1]\n",
        "pred_list = list(predictions_for_fine_tuned_model)\n",
        "predicted_classes_fine_tuned_model = [1 if entry > 0.5 else 0 for entry in pred_list]"
      ],
      "execution_count": null,
      "outputs": []
    },
    {
      "cell_type": "code",
      "metadata": {
        "trusted": true,
        "id": "EEVxFSXH_W6N",
        "outputId": "68fcd91b-0e04-40fa-aa07-67b6f5765d82"
      },
      "source": [
        "# Plotting Confusion  for Fine Tuned Matrix\n",
        "cm=confusion_matrix(true_classes,predicted_classes_fine_tuned_model)\n",
        "sn.heatmap(cm,annot=True,cmap='Blues', fmt='g',xticklabels=['Fire', 'No_Fire'], yticklabels=['Fire', 'No_Fire'])"
      ],
      "execution_count": null,
      "outputs": [
        {
          "output_type": "execute_result",
          "data": {
            "text/plain": [
              "<AxesSubplot:>"
            ]
          },
          "metadata": {
            "tags": []
          },
          "execution_count": 49
        },
        {
          "output_type": "display_data",
          "data": {
            "text/plain": [
              "<Figure size 432x288 with 2 Axes>"
            ],
            "image/png": "[encoded data removed]"
          },
          "metadata": {
            "tags": [],
            "needs_background": "light"
          }
        }
      ]
    }
  ]
}