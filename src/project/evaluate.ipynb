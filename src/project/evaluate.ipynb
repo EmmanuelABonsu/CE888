{
  "nbformat": 4,
  "nbformat_minor": 0,
  "metadata": {
    "colab": {
      "name": "evaluate.ipynb",
      "provenance": [],
      "mount_file_id": "1q_H8K81n0Keev9z0JvUf3EoWF_ZdQLjT",
      "authorship_tag": "ABX9TyPXNl8EVNy0vGNMEJduTNmQ",
      "include_colab_link": true
    },
    "kernelspec": {
      "name": "python3",
      "display_name": "Python 3"
    },
    "language_info": {
      "name": "python"
    },
    "accelerator": "GPU"
  },
  "cells": [
    {
      "cell_type": "markdown",
      "metadata": {
        "id": "view-in-github",
        "colab_type": "text"
      },
      "source": [
        "<a href=\"https://colab.research.google.com/github/EmmanuelABonsu/CE888/blob/main/src/project/evaluate.ipynb\" target=\"_parent\"><img src=\"https://colab.research.google.com/assets/colab-badge.svg\" alt=\"Open In Colab\"/></a>"
      ]
    },
    {
      "cell_type": "code",
      "metadata": {
        "id": "cZKggmbspFpy"
      },
      "source": [
        "from tensorflow import keras\n",
        "from tensorflow.keras.preprocessing.image import ImageDataGenerator\n",
        "import numpy as np\n",
        "from sklearn.metrics import confusion_matrix"
      ],
      "execution_count": 1,
      "outputs": []
    },
    {
      "cell_type": "code",
      "metadata": {
        "id": "cVIFWsxf6KIn"
      },
      "source": [
        "model = keras.models.load_model('drive/MyDrive/trained_model/fire_detection_model_run_2')"
      ],
      "execution_count": 2,
      "outputs": []
    },
    {
      "cell_type": "code",
      "metadata": {
        "id": "iNL2h1IuqC_H"
      },
      "source": [
        "test_path = \"drive/MyDrive/CE888_data/Test\""
      ],
      "execution_count": 3,
      "outputs": []
    },
    {
      "cell_type": "code",
      "metadata": {
        "colab": {
          "base_uri": "https://localhost:8080/"
        },
        "id": "azfqXILMp1ZV",
        "outputId": "871b186d-d999-4c4e-f77b-4e5adbe30a2e"
      },
      "source": [
        "test_datagen = ImageDataGenerator(rescale=1./255)\n",
        "\n",
        "test_generator = test_datagen.flow_from_directory(\n",
        "        test_path,\n",
        "        target_size=(254, 254),\n",
        "        shuffle = False,\n",
        "        class_mode='binary',\n",
        "        batch_size=1)"
      ],
      "execution_count": 4,
      "outputs": [
        {
          "output_type": "stream",
          "text": [
            "Found 8617 images belonging to 2 classes.\n"
          ],
          "name": "stdout"
        }
      ]
    },
    {
      "cell_type": "code",
      "metadata": {
        "colab": {
          "base_uri": "https://localhost:8080/"
        },
        "id": "Vsbl5UUMr3vZ",
        "outputId": "598670f5-d13a-44cf-a0e7-a51f12cb148e"
      },
      "source": [
        "score = model.evaluate(test_generator,               \n",
        "                                  max_queue_size=10,                 \n",
        "                                  workers=0,                         \n",
        "                                  use_multiprocessing=False,         \n",
        "                                  verbose=0)\n",
        "print(\"loss: %.3f - acc: %.3f\" % (score[0], score[1]))\n"
      ],
      "execution_count": 5,
      "outputs": [
        {
          "output_type": "stream",
          "text": [
            "loss: 2.537 - acc: 0.722\n"
          ],
          "name": "stdout"
        }
      ]
    },
    {
      "cell_type": "code",
      "metadata": {
        "colab": {
          "base_uri": "https://localhost:8080/"
        },
        "id": "iztgAE_dsX4T",
        "outputId": "79deb871-4c4e-4d46-9944-dee63460e9ff"
      },
      "source": [
        "predictions = model.predict(test_generator,\n",
        "                                    max_queue_size=10,\n",
        "                                    workers=0,\n",
        "                                    use_multiprocessing=False,\n",
        "                                    verbose=0)\n",
        "\n",
        "# Evaluate predictions\n",
        "predictedClass = np.argmax(predictions, axis=1)\n",
        "trueClass = test_generator.classes[test_generator.index_array]\n",
        "classLabels = list(test_generator.class_indices.keys())\n",
        "\n",
        "# Create confusion matrix\n",
        "confusionMatrix = (confusion_matrix(\n",
        "  y_true=trueClass,                                       \n",
        "  y_pred=predictedClass))                                 \n",
        "print(confusionMatrix)"
      ],
      "execution_count": 6,
      "outputs": [
        {
          "output_type": "stream",
          "text": [
            "[[3987 1150]\n",
            " [1248 2232]]\n"
          ],
          "name": "stdout"
        }
      ]
    }
  ]
}